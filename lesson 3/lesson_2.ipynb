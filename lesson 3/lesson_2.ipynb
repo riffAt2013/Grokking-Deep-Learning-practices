{
 "cells": [
  {
   "cell_type": "markdown",
   "metadata": {},
   "source": [
    "## lesson 3\n",
    "\n",
    "There is a paradigm for machine learning: *predict, compare and learn*"
   ]
  },
  {
   "cell_type": "markdown",
   "metadata": {},
   "source": [
    "### single input single output neural net (predicting win, just by number of toes)"
   ]
  },
  {
   "cell_type": "code",
   "execution_count": 2,
   "metadata": {},
   "outputs": [],
   "source": [
    "# simplest neural network possible\n",
    "\n",
    "weight = 0.1  \n",
    "def neural_net (input, weight):\n",
    "    prediction = input * weight\n",
    "    return prediction\n"
   ]
  },
  {
   "cell_type": "code",
   "execution_count": 4,
   "metadata": {},
   "outputs": [
    {
     "name": "stdout",
     "output_type": "stream",
     "text": [
      "0.75\n"
     ]
    }
   ],
   "source": [
    "number_of_toes = [7.5, 5.5, 10, 9.5]\n",
    "input = number_of_toes[0]\n",
    "\n",
    "pred = neural_net(input, weight)\n",
    "print(pred)\n"
   ]
  },
  {
   "cell_type": "markdown",
   "metadata": {},
   "source": [
    "### Multi-input , single output neural net (predicting win, from ntoes, prev win loss records, number of fans)\n"
   ]
  },
  {
   "cell_type": "code",
   "execution_count": 2,
   "metadata": {},
   "outputs": [],
   "source": [
    "# multiple input eural net, here 3 inputs are given, hence 3 weight values corresponding to these\n",
    "# 3 inputs\n",
    "\n",
    "weights = [0.1, 0.2, 0]\n",
    "\n",
    "def w_sum (a,b):\n",
    "    assert(len(a) == len(b))\n",
    "    output = 0\n",
    "    for i in range(len(a)):\n",
    "        output += (a[i]*b[i])\n",
    "    return output\n",
    "\n",
    "def neural_net(input, weights):\n",
    "    pred = w_sum(input, weights)\n",
    "    return pred"
   ]
  },
  {
   "cell_type": "code",
   "execution_count": 3,
   "metadata": {},
   "outputs": [
    {
     "name": "stdout",
     "output_type": "stream",
     "text": [
      "0.9800000000000001\n"
     ]
    }
   ],
   "source": [
    "# different input values, \n",
    "# toes = current avg for toes per player\n",
    "# wlrec = games win percentage\n",
    "# nfans = fans count in millions\n",
    "toes = [8.5, 9.5, 9.9]\n",
    "wlrec = [0.65, 0.8, 0.8]\n",
    "nfans = [1.9, 1.3, 0.5]\n",
    "\n",
    "# we're taking first game of the season, as all col value indicates 0\n",
    "input = [toes[0], wlrec[0], nfans[0]]\n",
    "pred = neural_net(input, weights)\n",
    "\n",
    "print(pred)"
   ]
  },
  {
   "cell_type": "code",
   "execution_count": 1,
   "metadata": {},
   "outputs": [],
   "source": [
    "# challenge : vector mathematics\n",
    "\n",
    "test_a = [9,8,7]\n",
    "test_b = [6,5,4]\n",
    "\n",
    "def elementwise_multiplication (vec_a, vec_b):\n",
    "        assert (len(vec_a) == len(vec_b))\n",
    "        output_vec = []        \n",
    "        for i in range(len(a)):\n",
    "            output_vec += [vec_a[i] * vec_b[i]]\n",
    "        return output_vec\n",
    "    \n",
    "def elementwise_addition (vec_a, vec_b):\n",
    "        assert (len(vec_a) == len(vec_b))\n",
    "        output_vec = []        \n",
    "        for i in range(len(a)):\n",
    "            output_vec += [vec_a[i] + vec_b[i]]\n",
    "        return output_vec\n",
    "    \n",
    "def vector_sum (vec_a):\n",
    "    output = 0\n",
    "    for i in range(len(vec_a)):\n",
    "        output += vec_a[i]\n",
    "    return output\n",
    "\n",
    "def vector_average (vec_a):\n",
    "    sum = vector_sum(vec_a)\n",
    "    size = len(vec_a)\n",
    "    return float(sum)/size\n",
    "\n",
    "# shit! I passed!"
   ]
  },
  {
   "cell_type": "markdown",
   "metadata": {},
   "source": [
    "### So the previous code was done using naively, we'll see how easy numpy is to do these stuffs"
   ]
  },
  {
   "cell_type": "code",
   "execution_count": 4,
   "metadata": {},
   "outputs": [
    {
     "name": "stdout",
     "output_type": "stream",
     "text": [
      "0.9800000000000001\n"
     ]
    }
   ],
   "source": [
    "import numpy as np\n",
    "\n",
    "# weights as more efficient vector in np\n",
    "weights = np.array([0.1, 0.2, 0])\n",
    "\n",
    "# dot method simply does what the weighted sum did\n",
    "def nueral_net (input , weights):\n",
    "    pred = input.dot(weights)\n",
    "    return pred\n",
    "\n",
    "toes = np.array([8.5, 9.5, 9.9])\n",
    "wlrec = np.array([0.65, 0.8, 0.8])\n",
    "nfans = np.array([1.9, 1.3, 0.5])\n",
    "\n",
    "input = np.array([toes[0], wlrec[0], nfans[0]])\n",
    "pred = neural_net(input , weights)\n",
    "\n",
    "print(pred)"
   ]
  },
  {
   "cell_type": "markdown",
   "metadata": {},
   "source": [
    "### Multiple output predictions from single input (predicting win, team member hurt?, players happy or sad from wlrec)"
   ]
  },
  {
   "cell_type": "code",
   "execution_count": 12,
   "metadata": {},
   "outputs": [
    {
     "name": "stdout",
     "output_type": "stream",
     "text": [
      "[0.195, 0.13, 0.5850000000000001]\n"
     ]
    }
   ],
   "source": [
    "# a = np.empty(3).astype(np.int), astype default is 'float'\n",
    "# a.fill(4)\n",
    "# FILLING ARRAYS\n",
    "\n",
    "# hurt?, win?, sad? respectively\n",
    "weights = [0.3, 0.2, 0.9]\n",
    "\n",
    "def neural_net (input, weights):\n",
    "    # need to make the input as a vector, for our method to work properly\n",
    "    input_vec = np.empty(len(weights))\n",
    "    input_vec.fill(input)\n",
    "    pred = elementwise_multiplication(input_vec, weights)\n",
    "    return pred\n",
    "\n",
    "wlrec = [0.65, 0.8, 0.8]\n",
    "input = wlrec[0]\n",
    "\n",
    "pred = neural_net(input, weights)\n",
    "print(pred)"
   ]
  },
  {
   "cell_type": "markdown",
   "metadata": {},
   "source": [
    "### Multi-input, multi-output  (predicting win, team member hurt?, players happy or sad from wlrec, ntoes, nfans)"
   ]
  }
 ],
 "metadata": {
  "kernelspec": {
   "display_name": "Python 3",
   "language": "python",
   "name": "python3"
  },
  "language_info": {
   "codemirror_mode": {
    "name": "ipython",
    "version": 3
   },
   "file_extension": ".py",
   "mimetype": "text/x-python",
   "name": "python",
   "nbconvert_exporter": "python",
   "pygments_lexer": "ipython3",
   "version": "3.4.3"
  }
 },
 "nbformat": 4,
 "nbformat_minor": 2
}
